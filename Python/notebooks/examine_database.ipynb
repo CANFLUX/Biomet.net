{
 "cells": [
  {
   "cell_type": "code",
   "execution_count": 27,
   "metadata": {},
   "outputs": [],
   "source": [
    "import numpy as np\n",
    "from pathlib import Path\n",
    "import pandas as pd"
   ]
  },
  {
   "cell_type": "code",
   "execution_count": 16,
   "metadata": {},
   "outputs": [],
   "source": [
    "# Config\n",
    "DATABASE_PATH = Path('../../../ecoflux/test_files/Database')\n",
    "SITE = 'SMC'\n",
    "YEAR = '2017'"
   ]
  },
  {
   "cell_type": "code",
   "execution_count": 34,
   "metadata": {},
   "outputs": [],
   "source": [
    "def load_variable(variable_name, dtype=np.float32):\n",
    "    return np.fromfile(DATABASE_PATH / YEAR / SITE / 'Clean' / 'ThirdStage' / variable_name, dtype=dtype)\n",
    "\n",
    "timestamp = load_variable('clean_tv', dtype=np.float64)\n",
    "timestamp_end = pd.to_datetime(timestamp - 719529, unit='D').round('s')\n",
    "ta = load_variable('TA_1_1_1')\n",
    "fch4_f = load_variable('FCH4_F_ML_ANN')\n"
   ]
  },
  {
   "cell_type": "code",
   "execution_count": 37,
   "metadata": {},
   "outputs": [
    {
     "data": {
      "text/html": [
       "<div>\n",
       "<style scoped>\n",
       "    .dataframe tbody tr th:only-of-type {\n",
       "        vertical-align: middle;\n",
       "    }\n",
       "\n",
       "    .dataframe tbody tr th {\n",
       "        vertical-align: top;\n",
       "    }\n",
       "\n",
       "    .dataframe thead th {\n",
       "        text-align: right;\n",
       "    }\n",
       "</style>\n",
       "<table border=\"1\" class=\"dataframe\">\n",
       "  <thead>\n",
       "    <tr style=\"text-align: right;\">\n",
       "      <th></th>\n",
       "      <th>timestamp</th>\n",
       "      <th>TA</th>\n",
       "      <th>FCH4_F_ML_ANN</th>\n",
       "    </tr>\n",
       "  </thead>\n",
       "  <tbody>\n",
       "    <tr>\n",
       "      <th>0</th>\n",
       "      <td>2017-01-01 00:30:00</td>\n",
       "      <td>NaN</td>\n",
       "      <td>2.146387</td>\n",
       "    </tr>\n",
       "    <tr>\n",
       "      <th>1</th>\n",
       "      <td>2017-01-01 01:00:00</td>\n",
       "      <td>NaN</td>\n",
       "      <td>2.146385</td>\n",
       "    </tr>\n",
       "    <tr>\n",
       "      <th>2</th>\n",
       "      <td>2017-01-01 01:30:00</td>\n",
       "      <td>NaN</td>\n",
       "      <td>2.146384</td>\n",
       "    </tr>\n",
       "    <tr>\n",
       "      <th>3</th>\n",
       "      <td>2017-01-01 02:00:00</td>\n",
       "      <td>NaN</td>\n",
       "      <td>2.146382</td>\n",
       "    </tr>\n",
       "    <tr>\n",
       "      <th>4</th>\n",
       "      <td>2017-01-01 02:30:00</td>\n",
       "      <td>NaN</td>\n",
       "      <td>2.146380</td>\n",
       "    </tr>\n",
       "    <tr>\n",
       "      <th>...</th>\n",
       "      <td>...</td>\n",
       "      <td>...</td>\n",
       "      <td>...</td>\n",
       "    </tr>\n",
       "    <tr>\n",
       "      <th>17515</th>\n",
       "      <td>2017-12-31 22:00:00</td>\n",
       "      <td>NaN</td>\n",
       "      <td>3.462880</td>\n",
       "    </tr>\n",
       "    <tr>\n",
       "      <th>17516</th>\n",
       "      <td>2017-12-31 22:30:00</td>\n",
       "      <td>NaN</td>\n",
       "      <td>3.463101</td>\n",
       "    </tr>\n",
       "    <tr>\n",
       "      <th>17517</th>\n",
       "      <td>2017-12-31 23:00:00</td>\n",
       "      <td>NaN</td>\n",
       "      <td>3.463322</td>\n",
       "    </tr>\n",
       "    <tr>\n",
       "      <th>17518</th>\n",
       "      <td>2017-12-31 23:30:00</td>\n",
       "      <td>NaN</td>\n",
       "      <td>3.463544</td>\n",
       "    </tr>\n",
       "    <tr>\n",
       "      <th>17519</th>\n",
       "      <td>2018-01-01 00:00:00</td>\n",
       "      <td>NaN</td>\n",
       "      <td>3.494121</td>\n",
       "    </tr>\n",
       "  </tbody>\n",
       "</table>\n",
       "<p>17520 rows × 3 columns</p>\n",
       "</div>"
      ],
      "text/plain": [
       "                timestamp  TA  FCH4_F_ML_ANN\n",
       "0     2017-01-01 00:30:00 NaN       2.146387\n",
       "1     2017-01-01 01:00:00 NaN       2.146385\n",
       "2     2017-01-01 01:30:00 NaN       2.146384\n",
       "3     2017-01-01 02:00:00 NaN       2.146382\n",
       "4     2017-01-01 02:30:00 NaN       2.146380\n",
       "...                   ...  ..            ...\n",
       "17515 2017-12-31 22:00:00 NaN       3.462880\n",
       "17516 2017-12-31 22:30:00 NaN       3.463101\n",
       "17517 2017-12-31 23:00:00 NaN       3.463322\n",
       "17518 2017-12-31 23:30:00 NaN       3.463544\n",
       "17519 2018-01-01 00:00:00 NaN       3.494121\n",
       "\n",
       "[17520 rows x 3 columns]"
      ]
     },
     "execution_count": 37,
     "metadata": {},
     "output_type": "execute_result"
    }
   ],
   "source": [
    "df = pd.DataFrame({'timestamp': timestamp_end, 'TA': ta, 'FCH4_F_ML_ANN': fch4_f})\n",
    "df"
   ]
  }
 ],
 "metadata": {
  "kernelspec": {
   "display_name": "methane",
   "language": "python",
   "name": "python3"
  },
  "language_info": {
   "codemirror_mode": {
    "name": "ipython",
    "version": 3
   },
   "file_extension": ".py",
   "mimetype": "text/x-python",
   "name": "python",
   "nbconvert_exporter": "python",
   "pygments_lexer": "ipython3",
   "version": "3.12.7"
  }
 },
 "nbformat": 4,
 "nbformat_minor": 2
}
