{
 "cells": [
  {
   "cell_type": "markdown",
   "metadata": {},
   "source": [
    "This is a useful notebook for directly examining database values. Pretty minimal, but allows for debugging of subroutines in the Biomet pipeline."
   ]
  },
  {
   "cell_type": "code",
   "execution_count": null,
   "metadata": {},
   "outputs": [],
   "source": [
    "import numpy as np\n",
    "from pathlib import Path\n",
    "import pandas as pd"
   ]
  },
  {
   "cell_type": "code",
   "execution_count": null,
   "metadata": {},
   "outputs": [],
   "source": [
    "# Config\n",
    "DATABASE_PATH = Path('../../../ecoflux/test_files/Database')\n",
    "SITE = 'SMC'\n",
    "YEAR = '2017'"
   ]
  },
  {
   "cell_type": "code",
   "execution_count": null,
   "metadata": {},
   "outputs": [],
   "source": [
    "def load_variable(variable_name, dtype=np.float32):\n",
    "    return np.fromfile(DATABASE_PATH / YEAR / SITE / 'Clean' / 'ThirdStage' / variable_name, dtype=dtype)\n",
    "\n",
    "timestamp = load_variable('clean_tv', dtype=np.float64)\n",
    "timestamp_end = pd.to_datetime(timestamp - 719529, unit='D').round('s')\n",
    "ta = load_variable('TA_1_1_1')\n",
    "fch4_f = load_variable('FCH4_F_ML_ANN')\n"
   ]
  },
  {
   "cell_type": "code",
   "execution_count": null,
   "metadata": {},
   "outputs": [],
   "source": [
    "df = pd.DataFrame({'timestamp': timestamp_end, 'TA': ta, 'FCH4_F_ML_ANN': fch4_f})\n",
    "df"
   ]
  }
 ],
 "metadata": {
  "kernelspec": {
   "display_name": "methane",
   "language": "python",
   "name": "python3"
  },
  "language_info": {
   "codemirror_mode": {
    "name": "ipython",
    "version": 3
   },
   "file_extension": ".py",
   "mimetype": "text/x-python",
   "name": "python",
   "nbconvert_exporter": "python",
   "pygments_lexer": "ipython3",
   "version": "3.12.7"
  }
 },
 "nbformat": 4,
 "nbformat_minor": 2
}
