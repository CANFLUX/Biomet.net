{
 "cells": [
  {
   "cell_type": "code",
   "execution_count": 48,
   "metadata": {},
   "outputs": [
    {
     "name": "stdout",
     "output_type": "stream",
     "text": [
      "Creating new directory at:\n",
      " //vinimet.geog.ubc.ca/contributions$/Copy_to_Database_JSkeeter/2023/BB/Met/Manual\n",
      "Creating new directory at:\n",
      " //vinimet.geog.ubc.ca/contributions$/Copy_to_Database_JSkeeter/2023/BB2/Met/Manual\n",
      "Creating new directory at:\n",
      " //vinimet.geog.ubc.ca/contributions$/Copy_to_Database_JSkeeter/2023/BBS/Met/Manual\n"
     ]
    }
   ],
   "source": [
    "import DatabaseFunctions\n",
    "import importlib\n",
    "importlib.reload(DatabaseFunctions)\n",
    "\n",
    "# WD = DatabaseFunctions.MakeTraces()\n",
    "\n",
    "WG = DatabaseFunctions.GSheetDump()\n",
    "\n",
    "# RD = DatabaseFunctions.MakeCSV(['BB'])"
   ]
  },
  {
   "cell_type": "code",
   "execution_count": 21,
   "metadata": {},
   "outputs": [
    {
     "data": {
      "text/plain": [
       "['BBS_CH.csv']"
      ]
     },
     "execution_count": 21,
     "metadata": {},
     "output_type": "execute_result"
    }
   ],
   "source": [
    "import os\n",
    "os.listdir(\"//vinimet.geog.ubc.ca/contributions$\")"
   ]
  }
 ],
 "metadata": {
  "kernelspec": {
   "display_name": ".venv",
   "language": "python",
   "name": "python3"
  },
  "language_info": {
   "codemirror_mode": {
    "name": "ipython",
    "version": 3
   },
   "file_extension": ".py",
   "mimetype": "text/x-python",
   "name": "python",
   "nbconvert_exporter": "python",
   "pygments_lexer": "ipython3",
   "version": "3.10.4"
  },
  "orig_nbformat": 4
 },
 "nbformat": 4,
 "nbformat_minor": 2
}
