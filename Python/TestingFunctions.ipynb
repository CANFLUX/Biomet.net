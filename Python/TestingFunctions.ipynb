{
 "cells": [
  {
   "cell_type": "markdown",
   "metadata": {},
   "source": [
    "# Reading & Writing to the Database"
   ]
  },
  {
   "cell_type": "code",
   "execution_count": 3,
   "metadata": {},
   "outputs": [
    {
     "name": "stdout",
     "output_type": "stream",
     "text": [
      "Z:/BB/NARR\n",
      "Creating new directory at:\n",
      " //vinimet.geog.ubc.ca/contributions$/Copy_to_Database_JSkeeter/2022/BB/Met/NARR\n"
     ]
    }
   ],
   "source": [
    "import DatabaseFunctions\n",
    "import importlib\n",
    "importlib.reload(DatabaseFunctions)\n",
    "\n",
    "# WD = DatabaseFunctions.MakeTraces()\n",
    "\n",
    "# WG = DatabaseFunctions.GSheetDump()\n",
    "\n",
    "# RD = DatabaseFunctions.MakeCSV(['BB'],Years=[2022])\n",
    "WD = DatabaseFunctions.MakeTraces('_Temp/Write_NARR.ini')"
   ]
  },
  {
   "cell_type": "markdown",
   "metadata": {},
   "source": [
    "# Downloading NARR & ECCC Data"
   ]
  },
  {
   "cell_type": "code",
   "execution_count": 12,
   "metadata": {},
   "outputs": [
    {
     "name": "stdout",
     "output_type": "stream",
     "text": [
      "Estimating hpbl for 2020 at BB2\n"
     ]
    }
   ],
   "source": [
    "import ExtractNARR\n",
    "import importlib\n",
    "importlib.reload(ExtractNARR)\n",
    "\n",
    "EX = ExtractNARR.PointSample(\"BB2\",[2020])"
   ]
  },
  {
   "cell_type": "code",
   "execution_count": null,
   "metadata": {},
   "outputs": [],
   "source": []
  },
  {
   "cell_type": "code",
   "execution_count": 10,
   "metadata": {},
   "outputs": [
    {
     "data": {
      "text/html": [
       "<div>\n",
       "<style scoped>\n",
       "    .dataframe tbody tr th:only-of-type {\n",
       "        vertical-align: middle;\n",
       "    }\n",
       "\n",
       "    .dataframe tbody tr th {\n",
       "        vertical-align: top;\n",
       "    }\n",
       "\n",
       "    .dataframe thead th {\n",
       "        text-align: right;\n",
       "    }\n",
       "</style>\n",
       "<table border=\"1\" class=\"dataframe\">\n",
       "  <thead>\n",
       "    <tr style=\"text-align: right;\">\n",
       "      <th></th>\n",
       "      <th>hpbl</th>\n",
       "      <th>hpbl_interp_linear</th>\n",
       "      <th>hpbl_interp_spline_2ndOrder</th>\n",
       "    </tr>\n",
       "    <tr>\n",
       "      <th>TIMESTAMP</th>\n",
       "      <th></th>\n",
       "      <th></th>\n",
       "      <th></th>\n",
       "    </tr>\n",
       "  </thead>\n",
       "  <tbody>\n",
       "    <tr>\n",
       "      <th>2022-01-01 00:00:00</th>\n",
       "      <td>NaN</td>\n",
       "      <td>1276.9</td>\n",
       "      <td>1276.5</td>\n",
       "    </tr>\n",
       "    <tr>\n",
       "      <th>2022-01-01 00:30:00</th>\n",
       "      <td>NaN</td>\n",
       "      <td>1275.0</td>\n",
       "      <td>1274.3</td>\n",
       "    </tr>\n",
       "    <tr>\n",
       "      <th>2022-01-01 01:00:00</th>\n",
       "      <td>1273.0</td>\n",
       "      <td>1273.0</td>\n",
       "      <td>1273.0</td>\n",
       "    </tr>\n",
       "    <tr>\n",
       "      <th>2022-01-01 01:30:00</th>\n",
       "      <td>NaN</td>\n",
       "      <td>1273.5</td>\n",
       "      <td>1272.7</td>\n",
       "    </tr>\n",
       "    <tr>\n",
       "      <th>2022-01-01 02:00:00</th>\n",
       "      <td>NaN</td>\n",
       "      <td>1274.0</td>\n",
       "      <td>1273.3</td>\n",
       "    </tr>\n",
       "    <tr>\n",
       "      <th>...</th>\n",
       "      <td>...</td>\n",
       "      <td>...</td>\n",
       "      <td>...</td>\n",
       "    </tr>\n",
       "    <tr>\n",
       "      <th>2022-12-31 11:00:00</th>\n",
       "      <td>NaN</td>\n",
       "      <td>1383.5</td>\n",
       "      <td>1418.6</td>\n",
       "    </tr>\n",
       "    <tr>\n",
       "      <th>2022-12-31 11:30:00</th>\n",
       "      <td>NaN</td>\n",
       "      <td>1319.1</td>\n",
       "      <td>1358.5</td>\n",
       "    </tr>\n",
       "    <tr>\n",
       "      <th>2022-12-31 12:00:00</th>\n",
       "      <td>NaN</td>\n",
       "      <td>1254.6</td>\n",
       "      <td>1289.7</td>\n",
       "    </tr>\n",
       "    <tr>\n",
       "      <th>2022-12-31 12:30:00</th>\n",
       "      <td>NaN</td>\n",
       "      <td>1190.2</td>\n",
       "      <td>1212.1</td>\n",
       "    </tr>\n",
       "    <tr>\n",
       "      <th>2022-12-31 13:00:00</th>\n",
       "      <td>1125.7</td>\n",
       "      <td>1125.7</td>\n",
       "      <td>1125.7</td>\n",
       "    </tr>\n",
       "  </tbody>\n",
       "</table>\n",
       "<p>17499 rows × 3 columns</p>\n",
       "</div>"
      ],
      "text/plain": [
       "                       hpbl  hpbl_interp_linear  hpbl_interp_spline_2ndOrder\n",
       "TIMESTAMP                                                                   \n",
       "2022-01-01 00:00:00     NaN              1276.9                       1276.5\n",
       "2022-01-01 00:30:00     NaN              1275.0                       1274.3\n",
       "2022-01-01 01:00:00  1273.0              1273.0                       1273.0\n",
       "2022-01-01 01:30:00     NaN              1273.5                       1272.7\n",
       "2022-01-01 02:00:00     NaN              1274.0                       1273.3\n",
       "...                     ...                 ...                          ...\n",
       "2022-12-31 11:00:00     NaN              1383.5                       1418.6\n",
       "2022-12-31 11:30:00     NaN              1319.1                       1358.5\n",
       "2022-12-31 12:00:00     NaN              1254.6                       1289.7\n",
       "2022-12-31 12:30:00     NaN              1190.2                       1212.1\n",
       "2022-12-31 13:00:00  1125.7              1125.7                       1125.7\n",
       "\n",
       "[17499 rows x 3 columns]"
      ]
     },
     "execution_count": 10,
     "metadata": {},
     "output_type": "execute_result"
    }
   ],
   "source": [
    "CT = EX.Trace.groupby(EX.Trace.index.year).count()[EX.var_name]\n",
    "EX.Trace.loc[EX.Trace.index.year.isin(CT.loc[CT>8].index)]"
   ]
  }
 ],
 "metadata": {
  "kernelspec": {
   "display_name": ".venv",
   "language": "python",
   "name": "python3"
  },
  "language_info": {
   "codemirror_mode": {
    "name": "ipython",
    "version": 3
   },
   "file_extension": ".py",
   "mimetype": "text/x-python",
   "name": "python",
   "nbconvert_exporter": "python",
   "pygments_lexer": "ipython3",
   "version": "3.10.4"
  },
  "orig_nbformat": 4
 },
 "nbformat": 4,
 "nbformat_minor": 2
}
