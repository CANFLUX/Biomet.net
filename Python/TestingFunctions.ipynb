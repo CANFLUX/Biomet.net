{
 "cells": [
  {
   "cell_type": "markdown",
   "metadata": {},
   "source": [
    "# Reading & Writing to the Database"
   ]
  },
  {
   "cell_type": "code",
   "execution_count": 18,
   "metadata": {},
   "outputs": [
    {
     "name": "stdout",
     "output_type": "stream",
     "text": [
      "Timezone not provided, estimating for -122.9849701, 49.12930679\n",
      "Initialized for: America/Vancouver\n",
      "DatetimeIndex(['2023-05-31', '2023-08-22'], dtype='datetime64[ns]', name='Date', freq=None)\n",
      "DatetimeIndex(['2023-05-30 23:00:00', '2023-08-21 23:00:00'], dtype='datetime64[ns]', name='Date', freq=None)\n",
      "Timezone not provided, estimating for -122.9849701, 49.12930679\n",
      "Initialized for: America/Vancouver\n",
      "DatetimeIndex(['2023-03-28 14:19:00', '2023-06-07 13:40:00',\n",
      "               '2023-06-26 10:41:00', '2023-07-15 11:16:00',\n",
      "               '2023-07-19 13:54:00', '2023-07-21 10:31:00',\n",
      "               '2023-08-22 11:18:00', '2023-09-16 11:55:00'],\n",
      "              dtype='datetime64[ns]', name='Timestamp', freq=None)\n",
      "DatetimeIndex(['2023-03-28 13:19:00', '2023-06-07 12:40:00',\n",
      "               '2023-06-26 09:41:00', '2023-07-15 10:16:00',\n",
      "               '2023-07-19 12:54:00', '2023-07-21 09:31:00',\n",
      "               '2023-08-22 10:18:00', '2023-09-16 10:55:00'],\n",
      "              dtype='datetime64[ns]', name='Timestamp', freq=None)\n",
      "Timezone not provided, estimating for -122.99517, 49.119038\n",
      "Initialized for: America/Vancouver\n",
      "DatetimeIndex(['2023-03-28 11:45:00', '2023-05-31 13:15:00',\n",
      "               '2023-06-07 11:45:00', '2023-06-26 12:30:00',\n",
      "               '2023-07-19 12:19:00', '2023-08-10 11:12:00',\n",
      "               '2023-08-22 13:01:00', '2023-09-16 13:48:00'],\n",
      "              dtype='datetime64[ns]', name='Timestamp', freq=None)\n",
      "DatetimeIndex(['2023-03-28 10:45:00', '2023-05-31 12:15:00',\n",
      "               '2023-06-07 10:45:00', '2023-06-26 11:30:00',\n",
      "               '2023-07-19 11:19:00', '2023-08-10 10:12:00',\n",
      "               '2023-08-22 12:01:00', '2023-09-16 12:48:00'],\n",
      "              dtype='datetime64[ns]', name='Timestamp', freq=None)\n"
     ]
    }
   ],
   "source": [
    "import DatabaseFunctions\n",
    "import importlib\n",
    "importlib.reload(DatabaseFunctions)\n",
    "\n",
    "# WD = DatabaseFunctions.MakeTraces()\n",
    "\n",
    "WG = DatabaseFunctions.GSheetDump()\n",
    "\n",
    "# RD = DatabaseFunctions.MakeCSV(['BB'],Years=[2022])\n",
    "# WD = DatabaseFunctions.MakeTraces('_Temp/Write_NARR.ini')"
   ]
  },
  {
   "cell_type": "code",
   "execution_count": 19,
   "metadata": {},
   "outputs": [
    {
     "data": {
      "text/html": [
       "<div>\n",
       "<style scoped>\n",
       "    .dataframe tbody tr th:only-of-type {\n",
       "        vertical-align: middle;\n",
       "    }\n",
       "\n",
       "    .dataframe tbody tr th {\n",
       "        vertical-align: top;\n",
       "    }\n",
       "\n",
       "    .dataframe thead th {\n",
       "        text-align: right;\n",
       "    }\n",
       "</style>\n",
       "<table border=\"1\" class=\"dataframe\">\n",
       "  <thead>\n",
       "    <tr style=\"text-align: right;\">\n",
       "      <th></th>\n",
       "      <th>WTH cm</th>\n",
       "      <th>Pipe_Height cm</th>\n",
       "    </tr>\n",
       "    <tr>\n",
       "      <th>Timestamp</th>\n",
       "      <th></th>\n",
       "      <th></th>\n",
       "    </tr>\n",
       "  </thead>\n",
       "  <tbody>\n",
       "    <tr>\n",
       "      <th>2023-03-28 10:30:00</th>\n",
       "      <td>69.3</td>\n",
       "      <td>79.0</td>\n",
       "    </tr>\n",
       "    <tr>\n",
       "      <th>2023-03-28 11:00:00</th>\n",
       "      <td>NaN</td>\n",
       "      <td>NaN</td>\n",
       "    </tr>\n",
       "    <tr>\n",
       "      <th>2023-03-28 11:30:00</th>\n",
       "      <td>NaN</td>\n",
       "      <td>NaN</td>\n",
       "    </tr>\n",
       "    <tr>\n",
       "      <th>2023-03-28 12:00:00</th>\n",
       "      <td>NaN</td>\n",
       "      <td>NaN</td>\n",
       "    </tr>\n",
       "    <tr>\n",
       "      <th>2023-03-28 12:30:00</th>\n",
       "      <td>NaN</td>\n",
       "      <td>NaN</td>\n",
       "    </tr>\n",
       "    <tr>\n",
       "      <th>...</th>\n",
       "      <td>...</td>\n",
       "      <td>...</td>\n",
       "    </tr>\n",
       "    <tr>\n",
       "      <th>2023-09-16 10:30:00</th>\n",
       "      <td>NaN</td>\n",
       "      <td>NaN</td>\n",
       "    </tr>\n",
       "    <tr>\n",
       "      <th>2023-09-16 11:00:00</th>\n",
       "      <td>NaN</td>\n",
       "      <td>NaN</td>\n",
       "    </tr>\n",
       "    <tr>\n",
       "      <th>2023-09-16 11:30:00</th>\n",
       "      <td>NaN</td>\n",
       "      <td>NaN</td>\n",
       "    </tr>\n",
       "    <tr>\n",
       "      <th>2023-09-16 12:00:00</th>\n",
       "      <td>NaN</td>\n",
       "      <td>NaN</td>\n",
       "    </tr>\n",
       "    <tr>\n",
       "      <th>2023-09-16 12:30:00</th>\n",
       "      <td>126.5</td>\n",
       "      <td>86.0</td>\n",
       "    </tr>\n",
       "  </tbody>\n",
       "</table>\n",
       "<p>8261 rows × 2 columns</p>\n",
       "</div>"
      ],
      "text/plain": [
       "                     WTH cm  Pipe_Height cm\n",
       "Timestamp                                  \n",
       "2023-03-28 10:30:00    69.3            79.0\n",
       "2023-03-28 11:00:00     NaN             NaN\n",
       "2023-03-28 11:30:00     NaN             NaN\n",
       "2023-03-28 12:00:00     NaN             NaN\n",
       "2023-03-28 12:30:00     NaN             NaN\n",
       "...                     ...             ...\n",
       "2023-09-16 10:30:00     NaN             NaN\n",
       "2023-09-16 11:00:00     NaN             NaN\n",
       "2023-09-16 11:30:00     NaN             NaN\n",
       "2023-09-16 12:00:00     NaN             NaN\n",
       "2023-09-16 12:30:00   126.5            86.0\n",
       "\n",
       "[8261 rows x 2 columns]"
      ]
     },
     "execution_count": 19,
     "metadata": {},
     "output_type": "execute_result"
    }
   ],
   "source": [
    "WG.Data"
   ]
  },
  {
   "cell_type": "markdown",
   "metadata": {},
   "source": [
    "# Downloading NARR & ECCC Data"
   ]
  },
  {
   "cell_type": "code",
   "execution_count": 12,
   "metadata": {},
   "outputs": [
    {
     "name": "stdout",
     "output_type": "stream",
     "text": [
      "Estimating hpbl for 2020 at BB2\n"
     ]
    }
   ],
   "source": [
    "# import ExtractNARR\n",
    "# import importlib\n",
    "# importlib.reload(ExtractNARR)\n",
    "\n",
    "# EX = ExtractNARR.PointSample(\"BB2\",[2020])\n",
    "\n",
    "# import os\n",
    "# os.listdir(//vinimet.geog.ubc.ca/contributions$/Copy_to_Database_JSkeeter/YEAR/SITE/)"
   ]
  },
  {
   "cell_type": "code",
   "execution_count": 16,
   "metadata": {},
   "outputs": [
    {
     "name": "stdout",
     "output_type": "stream",
     "text": [
      "Initialized for: Etc/GMT-8\n",
      "DatetimeIndex(['2023-03-11 23:00:00', '2023-03-12 00:00:00',\n",
      "               '2023-03-12 01:00:00', '2023-03-12 02:00:00',\n",
      "               '2023-03-12 03:00:00', '2023-03-12 04:00:00',\n",
      "               '2023-03-12 05:00:00', '2023-03-12 06:00:00',\n",
      "               '2023-03-12 07:00:00', '2023-03-12 08:00:00'],\n",
      "              dtype='datetime64[ns]', freq='H')\n"
     ]
    }
   ],
   "source": [
    "import TzFuncs\n",
    "import importlib\n",
    "\n",
    "import pandas as pd\n",
    "importlib.reload(TzFuncs)\n",
    "\n",
    "dtr = pd.date_range(start='2023-1-1 0:00',end='2023-12-31 00:00',freq='30T')\n",
    "dtr = pd.date_range(start='2023-03-11 23:00',end='2023-03-12 08:00',freq='1H')\n",
    "# dtr = pd.date_range(start='2023-11-4 23:00',end='2023-11-5 08:00',freq='1H')\n",
    "\n",
    "\n",
    "# print('input')\n",
    "# print(dtr)\n",
    "# print()\n",
    "\n",
    "# tzf = TzFuncs.Tzfuncs(dtr,Time_Zone='America/Vancouver')\n",
    "\n",
    "tzf = TzFuncs.Tzfuncs(dtr,Time_Zone='Etc/GMT-8')\n",
    "# tzf = TzFuncs.Tzfuncs(dtr,DST=True)\n",
    "\n",
    "# tzf.TimeConversions\n",
    "print(dtr)"
   ]
  },
  {
   "cell_type": "code",
   "execution_count": 15,
   "metadata": {},
   "outputs": [
    {
     "data": {
      "text/plain": [
       "DatetimeIndex(['2023-03-11 23:00:00', '2023-03-12 00:00:00',\n",
       "               '2023-03-12 01:00:00', '2023-03-12 02:00:00',\n",
       "               '2023-03-12 03:00:00', '2023-03-12 04:00:00',\n",
       "               '2023-03-12 05:00:00', '2023-03-12 06:00:00',\n",
       "               '2023-03-12 07:00:00', '2023-03-12 08:00:00'],\n",
       "              dtype='datetime64[ns]', freq=None)"
      ]
     },
     "execution_count": 15,
     "metadata": {},
     "output_type": "execute_result"
    }
   ],
   "source": [
    "\n",
    "tzf.Standard_Time\n",
    "# pd.Datetime"
   ]
  },
  {
   "cell_type": "code",
   "execution_count": 23,
   "metadata": {},
   "outputs": [
    {
     "name": "stdout",
     "output_type": "stream",
     "text": [
      "-7.0\n",
      "1:00:00\n",
      "-1 day, 16:00:00\n",
      "\n"
     ]
    }
   ],
   "source": [
    "\n",
    "def add_forgotten_dst(dt, zoneinfo):\n",
    "    '''Like pytz.localize, but ignores dst.'''\n",
    "    utcoffset = zoneinfo.utcoffset(dt)\n",
    "    print(utcoffset.total_seconds()/60/60)\n",
    "    dst = zoneinfo.dst(dt)\n",
    "    print(dst)\n",
    "    standard_offset = utcoffset - dst\n",
    "    print(standard_offset)\n",
    "    dt = dt.replace(tzinfo=timezone(standard_offset))\n",
    "    # print(dt)\n",
    "    return dt.astimezone(zoneinfo)\n",
    "\n",
    "naive_time = datetime.now()#(2018, 5, 18, 18, 50)\n",
    "# naive_time = datetime(2018, 5, 18, 18, 50)\n",
    "# naive_time = datetime(2018, 1, 18, 18, 50)\n",
    "# print()#\n",
    "add_forgotten_dst(naive_time, pytz.timezone(TZ))\n",
    "print()\n",
    "\n",
    "\n",
    "# class TZ_funcs():\n",
    "#     def __init__(self) -> None:\n",
    "#         pass\n",
    "\n"
   ]
  }
 ],
 "metadata": {
  "kernelspec": {
   "display_name": ".venv",
   "language": "python",
   "name": "python3"
  },
  "language_info": {
   "codemirror_mode": {
    "name": "ipython",
    "version": 3
   },
   "file_extension": ".py",
   "mimetype": "text/x-python",
   "name": "python",
   "nbconvert_exporter": "python",
   "pygments_lexer": "ipython3",
   "version": "3.10.4"
  },
  "orig_nbformat": 4
 },
 "nbformat": 4,
 "nbformat_minor": 2
}
