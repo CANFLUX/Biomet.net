{
 "cells": [
  {
   "cell_type": "code",
   "execution_count": 50,
   "metadata": {},
   "outputs": [],
   "source": [
    "import DatabaseFunctions\n",
    "import importlib\n",
    "importlib.reload(DatabaseFunctions)\n",
    "\n",
    "WD = DatabaseFunctions.MakeTraces()\n",
    "\n",
    "# WG = DatabaseFunctions.GSheetDump()\n",
    "\n",
    "# RD = DatabaseFunctions.MakeCSV(['BB'])"
   ]
  },
  {
   "cell_type": "code",
   "execution_count": 51,
   "metadata": {},
   "outputs": [
    {
     "data": {
      "text/plain": [
       "{'BB': [2014, 2015, 2016, 2017, 2018, 2019, 2020, 2021, 2022, 2023],\n",
       " 'BB2': [2018, 2019, 2020, 2021, 2022, 2023],\n",
       " 'DSM': [2021, 2022],\n",
       " 'HOGG': [2022],\n",
       " 'RBM': [2022],\n",
       " 'YOUNG': [2022],\n",
       " 'BBS': [2023]}"
      ]
     },
     "execution_count": 51,
     "metadata": {},
     "output_type": "execute_result"
    }
   ],
   "source": [
    "\n",
    "WD.years_by_site"
   ]
  }
 ],
 "metadata": {
  "kernelspec": {
   "display_name": ".venv",
   "language": "python",
   "name": "python3"
  },
  "language_info": {
   "codemirror_mode": {
    "name": "ipython",
    "version": 3
   },
   "file_extension": ".py",
   "mimetype": "text/x-python",
   "name": "python",
   "nbconvert_exporter": "python",
   "pygments_lexer": "ipython3",
   "version": "3.10.4"
  },
  "orig_nbformat": 4
 },
 "nbformat": 4,
 "nbformat_minor": 2
}
